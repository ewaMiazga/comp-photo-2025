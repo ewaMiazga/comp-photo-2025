{
 "cells": [
  {
   "cell_type": "code",
   "id": "8004c31d",
   "metadata": {
    "colab": {
     "base_uri": "https://localhost:8080/"
    },
    "id": "8004c31d",
    "outputId": "25a22642-14d0-4d48-ee45-6683bb1fe998",
    "ExecuteTime": {
     "end_time": "2025-05-23T11:51:50.807890Z",
     "start_time": "2025-05-23T11:51:50.222821Z"
    }
   },
   "source": [
    "import torch\n",
    "import torch.nn.functional as F\n",
    "import matplotlib.pyplot as plt\n",
    "import numpy as np\n",
    "import cv2\n",
    "import seaborn as sns\n",
    "#!pip install rawpy\n",
    "import rawpy\n",
    "from raw_utils import pack_raw\n",
    "from dataset_navigation import get_image_paths"
   ],
   "outputs": [],
   "execution_count": 6
  },
  {
   "cell_type": "code",
   "id": "997d679a",
   "metadata": {
    "id": "997d679a",
    "ExecuteTime": {
     "end_time": "2025-05-23T11:51:50.812413Z",
     "start_time": "2025-05-23T11:51:50.809343Z"
    }
   },
   "source": [
    "def load_image(file_path):\n",
    "    raw = rawpy.imread(file_path).raw_image_visible\n",
    "    return pack_raw(raw)\n"
   ],
   "outputs": [],
   "execution_count": 7
  },
  {
   "cell_type": "code",
   "id": "1f21091a",
   "metadata": {
    "ExecuteTime": {
     "end_time": "2025-05-23T12:03:41.009685Z",
     "start_time": "2025-05-23T12:03:40.185121Z"
    }
   },
   "source": [
    "paths = get_image_paths()\n",
    "long_exp_paths = paths[\"long_exp\"]\n",
    "filtered_exp_paths = paths[\"filter_long_exp\"]\n",
    "idx = 22\n",
    "image_diff = load_image(filtered_exp_paths[idx])\n",
    "image_org = load_image(long_exp_paths[idx])\n",
    "# Downsample the images\n",
    "factor = 4\n",
    "\n",
    "image_diff = cv2.resize(image_diff, (image_diff.shape[1] // factor, image_diff.shape[0] // factor), interpolation=cv2.INTER_LINEAR)\n",
    "image_org = cv2.resize(image_org, (image_org.shape[1] // factor, image_org.shape[0] // factor), interpolation=cv2.INTER_LINEAR)\n",
    "image_diff = image_diff / image_diff.max()\n",
    "image_org = image_org / image_org.max()\n",
    "print(image_diff.shape)\n",
    "\n",
    "device = torch.device(\"cuda\" if torch.cuda.is_available() else \"cpu\")\n",
    "print(device)"
   ],
   "outputs": [
    {
     "name": "stdout",
     "output_type": "stream",
     "text": [
      "(357, 536, 4)\n",
      "cpu\n"
     ]
    }
   ],
   "execution_count": 44
  },
  {
   "cell_type": "code",
   "id": "4829357d",
   "metadata": {
    "colab": {
     "base_uri": "https://localhost:8080/"
    },
    "id": "4829357d",
    "outputId": "f60fafcb-f7eb-4381-8d6e-05f8892c1fa3",
    "ExecuteTime": {
     "end_time": "2025-05-23T12:44:54.760319Z",
     "start_time": "2025-05-23T12:44:54.747769Z"
    }
   },
   "source": [
    "import torch\n",
    "import torch.nn.functional as F\n",
    "\n",
    "from variance_brightness_analysis import get_brightness_to_std_difference_splines\n",
    "\n",
    "def fitted_func_multi_channel(x, blur_intensity):\n",
    "    \"\"\"\n",
    "    This function takes in the pixel brightness and returns the sigma value for each channel.\n",
    "    Args:\n",
    "        x (torch.Tensor): Input tensor with shape (B, C, H, W)\n",
    "    \"\"\"\n",
    "    # Calculate the sigma values for each channel using the provided splines\n",
    "    splines = get_brightness_to_std_difference_splines()\n",
    "    sigma = []\n",
    "    for i in range(x.shape[1]):\n",
    "        # Get the spline for the current channel\n",
    "        spline = splines[i]\n",
    "        # Calculate the sigma values using the spline\n",
    "        sigma_channel = torch.tensor(spline(x[:, i, :, :].cpu().numpy()), device=x.device)\n",
    "        sigma.append(sigma_channel)\n",
    "    # Stack the sigma values to create a tensor with shape (B, C, H, W) \n",
    "    sigma = torch.stack(sigma, dim=1)\n",
    "    return sigma * blur_intensity\n",
    "\n",
    "\n",
    "def fitted_func_multi_channel_avg(x, blur_intensity):\n",
    "    \"\"\"\n",
    "    This function takes in the pixel brightness and returns the sigma value for each channel.\n",
    "    Args:\n",
    "        x (torch.Tensor): Input tensor with shape (B, C, H, W)\n",
    "    \"\"\"\n",
    "    # Calculate the sigma values for each channel using the provided splines\n",
    "    splines = get_brightness_to_std_difference_splines()\n",
    "    sigma = []\n",
    "    for i in range(x.shape[1]):\n",
    "        # Get the spline for the current channel\n",
    "        spline = splines[i]\n",
    "        # Calculate the sigma values using the spline\n",
    "        sigma_channel = torch.tensor(spline(x[:, i, :, :].cpu().numpy()), device=x.device)\n",
    "        sigma.append(sigma_channel)\n",
    "    sigma = torch.stack(sigma, dim=1)\n",
    "\n",
    "    # If use_avg is True, average the sigma values across channels\n",
    "    sigma = sigma.mean(dim=1, keepdim=True)\n",
    "    # Make into 4 channels again\n",
    "    sigma = sigma.repeat(1, x.shape[1], 1, 1)\n",
    "    return sigma * blur_intensity\n",
    "\n",
    "\n",
    "def gaussian_kernel(sigma, k_size=3):\n",
    "    \"\"\"\n",
    "    Generate Gaussian kernels for each pixel based on sigma values.\n",
    "\n",
    "    Args:\n",
    "        sigma (torch.Tensor): Sigma values with shape (B, C, H, W)\n",
    "        k_size (int): Kernel size (default: 3)\n",
    "\n",
    "    Returns:\n",
    "        torch.Tensor: Gaussian kernels with shape (B, C, H, W, k_size, k_size)\n",
    "    \"\"\"\n",
    "    device = sigma.device\n",
    "    B, C, H, W = sigma.shape\n",
    "    radius = k_size // 2\n",
    "\n",
    "    # Create kernel grid\n",
    "    y, x = torch.meshgrid(\n",
    "        torch.arange(-radius, radius + 1, dtype=torch.float32, device=device),\n",
    "        torch.arange(-radius, radius + 1, dtype=torch.float32, device=device),\n",
    "        indexing='ij'\n",
    "    )\n",
    "\n",
    "    # Reshape for broadcasting\n",
    "    x = x.view(1, 1, 1, 1, k_size, k_size)  # (1, 1, 1, 1, k, k)\n",
    "    y = y.view(1, 1, 1, 1, k_size, k_size)\n",
    "    sigma = sigma.unsqueeze(-1).unsqueeze(-1)  # (B, C, H, W, 1, 1)\n",
    "\n",
    "    # Compute Gaussian weights\n",
    "    coeff = 1.0 / (2 * torch.pi * sigma**2)\n",
    "    exponent = -(x**2 + y**2) / (2 * sigma**2)\n",
    "    weights = coeff * torch.exp(exponent)\n",
    "\n",
    "    # Normalize kernels\n",
    "    weights_sum = weights.sum(dim=(-2, -1), keepdim=True)\n",
    "    weights = weights / weights_sum\n",
    "    print(weights.shape)\n",
    "    return weights\n",
    "\n",
    "def adaptive_gaussian_conv2d(img, k_size=3, blur_intensity=10):\n",
    "    \"\"\"\n",
    "    Perform spatially adaptive Gaussian convolution.\n",
    "\n",
    "    Args:\n",
    "        img (torch.Tensor): Input image with shape (B, C, H, W)\n",
    "        k_size (int): Kernel size (default: 3)\n",
    "\n",
    "    Returns:\n",
    "        torch.Tensor: Convolved output with shape (B, C, H, W)\n",
    "    \"\"\"\n",
    "    img = torch.tensor(img, dtype=torch.float32).permute(2, 0, 1).unsqueeze(0).to(device)\n",
    "    B, C, H, W = img.shape\n",
    "\n",
    "\n",
    "    # sigma = fitted_func_multi_channel_avg(img, blur_intensity)\n",
    "    brightness = 0.8\n",
    "    print(\"Image mean\", img.mean())\n",
    "    img[img>brightness] = img[img>brightness]*1000000\n",
    "    sigma = torch.where(img>brightness, 1000, 0.001)\n",
    "    print(\"Image mean after thresholding\", img.mean())\n",
    "    print(sigma.mean())\n",
    "    print(\"Sigma shape\", sigma.shape)\n",
    "\n",
    "    # Generate Gaussian kernels\n",
    "    kernels = gaussian_kernel(sigma, k_size).to(img.device)  # (B, C, H, W, k, k)\n",
    "    print(kernels.shape)\n",
    "    # print(kernels[0, 0, 0, 0])\n",
    "\n",
    "    # Unfold input image into patches\n",
    "    pad = k_size // 2\n",
    "    unfolded = F.unfold(img, kernel_size=k_size, padding=pad)  # (B, C*k*k, H*W)\n",
    "    unfolded = unfolded.view(B, C, k_size*k_size, H, W)      # (B, C, k*k, H, W)\n",
    "    unfolded = unfolded.permute(0, 1, 3, 4, 2)               # (B, C, H, W, k*k)\n",
    "\n",
    "    # Reshape kernels and multiply with patches\n",
    "    kernels_flat = kernels.view(B, C, H, W, -1)              # (B, C, H, W, k*k)\n",
    "    output = (unfolded * kernels_flat).sum(dim=-1)           # (B, C, H, W)\n",
    "    \n",
    "    # Clip output to [0, 1]\n",
    "    output = torch.clamp(output, 0, 1)\n",
    "    return output"
   ],
   "outputs": [],
   "execution_count": 95
  },
  {
   "cell_type": "code",
   "id": "16a72922",
   "metadata": {
    "ExecuteTime": {
     "end_time": "2025-05-23T12:44:55.465969Z",
     "start_time": "2025-05-23T12:44:55.463094Z"
    }
   },
   "source": [
    "torch.cuda.empty_cache()"
   ],
   "outputs": [],
   "execution_count": 96
  },
  {
   "cell_type": "code",
   "id": "MVfv9jekSEwU",
   "metadata": {
    "id": "MVfv9jekSEwU",
    "ExecuteTime": {
     "end_time": "2025-05-23T12:44:55.728853Z",
     "start_time": "2025-05-23T12:44:55.726143Z"
    }
   },
   "source": [
    "\n",
    "# print(blurred_image.min(), blurred_image.max())\n",
    "#torch.cuda.empty_cache()"
   ],
   "outputs": [],
   "execution_count": 97
  },
  {
   "metadata": {
    "ExecuteTime": {
     "end_time": "2025-05-23T12:44:55.917946Z",
     "start_time": "2025-05-23T12:44:55.912744Z"
    }
   },
   "cell_type": "code",
   "source": [
    "def postprocess(image):\n",
    "    rgb = demosaic_bilinear(unpack_raw(image))\n",
    "    # White balance gray world\n",
    "    # rgb = rgb / np.mean(rgb, axis=(0, 1), keepdims=True)\n",
    "    # channel means\n",
    "    mu = rgb.mean(axis=(0,1))              # [μ_R, μ_G, μ_B]\n",
    "    mu_gray = mu.mean()                  # gray reference\n",
    "    scales = mu_gray / mu                # [s_R, s_G, s_B]\n",
    "    # apply scales\n",
    "    rgb = rgb * scales[None,None,:]\n",
    "\n",
    "    rgb = np.clip(rgb, 0, 1)\n",
    "    # Apply gamma correction\n",
    "    gamma = 2.2\n",
    "    rgb = np.power(rgb, 1 / gamma)\n",
    "    # Normalize to [0, 1]\n",
    "    rgb = (rgb - rgb.min()) / (rgb.max() - rgb.min())\n",
    "    return rgb"
   ],
   "id": "33df87845415552b",
   "outputs": [],
   "execution_count": 98
  },
  {
   "cell_type": "code",
   "id": "d67637dd",
   "metadata": {
    "colab": {
     "base_uri": "https://localhost:8080/",
     "height": 207
    },
    "id": "d67637dd",
    "outputId": "5cbda18b-104a-4802-bc72-4525f90c1bde",
    "ExecuteTime": {
     "end_time": "2025-05-23T12:46:42.864542Z",
     "start_time": "2025-05-23T12:46:42.857688Z"
    }
   },
   "source": [
    "from raw_utils import demosaic_bilinear\n",
    "from raw_utils import unpack_raw\n",
    "torch.cuda.empty_cache()\n",
    "\n",
    "\n",
    "blurred_image = adaptive_gaussian_conv2d(image_org, k_size=31, blur_intensity=100)[0].permute(1,2,0).cpu().numpy()\n",
    "blurred_image_rgb = postprocess(blurred_image)\n",
    "\n",
    "image_org_rgb = postprocess(image_org)\n",
    "image_diff_rgb = postprocess(image_diff)\n",
    "x_start = 0\n",
    "x_end = image_org_rgb.shape[1]\n",
    "y_start = 0\n",
    "y_end = image_org_rgb.shape[0]\n",
    "\n",
    "plt.figure(figsize=(18, 6))\n",
    "\n",
    "img_max = image_org_rgb[y_start:y_end, x_start:x_end ].max()\n",
    "plt.subplot(1, 4, 1)\n",
    "plt.imshow(image_org_rgb[y_start:y_end, x_start:x_end ]/img_max)\n",
    "plt.title(\"Original Image\")\n",
    "plt.axis(\"off\")\n",
    "\n",
    "\n",
    "plt.subplot(1, 4, 2)\n",
    "plt.imshow(np.clip(blurred_image_rgb/img_max, 0, 1))\n",
    "plt.title(\"Blurred Image\")\n",
    "plt.axis(\"off\")\n",
    "\n",
    "plt.subplot(1, 4, 3)\n",
    "plt.imshow(image_diff_rgb[y_start:y_end, x_start:x_end ]/img_max)\n",
    "plt.title(\"Filtered Image\")\n",
    "plt.axis(\"off\")\n",
    "\n",
    "\n",
    "plt.subplot(1, 4, 4)\n",
    "plt.imshow(image_org_rgb[y_start:y_end, x_start:x_end ] - blurred_image_rgb[y_start:y_end, x_start:x_end], cmap=\"coolwarm\")\n",
    "plt.title(\"Difference orig, blur\")\n",
    "plt.axis(\"off\")\n",
    "\n",
    "print(image_diff.shape)\n",
    "plt.tight_layout()\n",
    "plt.show()"
   ],
   "outputs": [
    {
     "ename": "SyntaxError",
     "evalue": "closing parenthesis ')' does not match opening parenthesis '[' (2215299239.py, line 37)",
     "output_type": "error",
     "traceback": [
      "\u001B[0;36m  Cell \u001B[0;32mIn[102], line 37\u001B[0;36m\u001B[0m\n\u001B[0;31m    plt.imshow(image_org_rgb[y_start:y_end, x_start:x_end ] - blurred_image_rgb[y_start:y_end, x_start:x_end, cmap=\"coolwarm\")\u001B[0m\n\u001B[0m                                                                                                                             ^\u001B[0m\n\u001B[0;31mSyntaxError\u001B[0m\u001B[0;31m:\u001B[0m closing parenthesis ')' does not match opening parenthesis '['\n"
     ]
    }
   ],
   "execution_count": 102
  },
  {
   "cell_type": "code",
   "id": "70ab96a4",
   "metadata": {
    "ExecuteTime": {
     "end_time": "2025-05-23T12:39:02.520282Z",
     "start_time": "2025-05-23T12:39:02.504217Z"
    }
   },
   "source": [
    "diff = ((blurred_image - image_org[1200:2100, 1500:2400] / 255.0)[:, :, 0])\n",
    "plt.imshow(diff, cmap=\"coolwarm\")\n",
    "plt.colorbar()\n",
    "diff"
   ],
   "outputs": [
    {
     "ename": "ValueError",
     "evalue": "operands could not be broadcast together with shapes (357,536,4) (0,0,4) ",
     "output_type": "error",
     "traceback": [
      "\u001B[0;31m---------------------------------------------------------------------------\u001B[0m",
      "\u001B[0;31mValueError\u001B[0m                                Traceback (most recent call last)",
      "Cell \u001B[0;32mIn[73], line 1\u001B[0m\n\u001B[0;32m----> 1\u001B[0m diff \u001B[38;5;241m=\u001B[39m ((\u001B[43mblurred_image\u001B[49m\u001B[43m \u001B[49m\u001B[38;5;241;43m-\u001B[39;49m\u001B[43m \u001B[49m\u001B[43mimage_org\u001B[49m\u001B[43m[\u001B[49m\u001B[38;5;241;43m1200\u001B[39;49m\u001B[43m:\u001B[49m\u001B[38;5;241;43m2100\u001B[39;49m\u001B[43m,\u001B[49m\u001B[43m \u001B[49m\u001B[38;5;241;43m1500\u001B[39;49m\u001B[43m:\u001B[49m\u001B[38;5;241;43m2400\u001B[39;49m\u001B[43m]\u001B[49m\u001B[43m \u001B[49m\u001B[38;5;241;43m/\u001B[39;49m\u001B[43m \u001B[49m\u001B[38;5;241;43m255.0\u001B[39;49m)[:, :, \u001B[38;5;241m0\u001B[39m])\n\u001B[1;32m      2\u001B[0m plt\u001B[38;5;241m.\u001B[39mimshow(diff, cmap\u001B[38;5;241m=\u001B[39m\u001B[38;5;124m\"\u001B[39m\u001B[38;5;124mcoolwarm\u001B[39m\u001B[38;5;124m\"\u001B[39m)\n\u001B[1;32m      3\u001B[0m plt\u001B[38;5;241m.\u001B[39mcolorbar()\n",
      "\u001B[0;31mValueError\u001B[0m: operands could not be broadcast together with shapes (357,536,4) (0,0,4) "
     ]
    }
   ],
   "execution_count": 73
  },
  {
   "metadata": {
    "ExecuteTime": {
     "end_time": "2025-05-23T11:36:06.870687Z",
     "start_time": "2025-05-23T11:36:06.870490Z"
    }
   },
   "cell_type": "code",
   "source": "",
   "id": "20dcc8f4cd2c6708",
   "outputs": [],
   "execution_count": null
  },
  {
   "metadata": {},
   "cell_type": "code",
   "outputs": [],
   "execution_count": null,
   "source": "",
   "id": "97c52663b565f69d"
  }
 ],
 "metadata": {
  "accelerator": "GPU",
  "colab": {
   "gpuType": "T4",
   "provenance": []
  },
  "kernelspec": {
   "display_name": "Python 3",
   "language": "python",
   "name": "python3"
  },
  "language_info": {
   "codemirror_mode": {
    "name": "ipython",
    "version": 3
   },
   "file_extension": ".py",
   "mimetype": "text/x-python",
   "name": "python",
   "nbconvert_exporter": "python",
   "pygments_lexer": "ipython3",
   "version": "3.8.19"
  }
 },
 "nbformat": 4,
 "nbformat_minor": 5
}
