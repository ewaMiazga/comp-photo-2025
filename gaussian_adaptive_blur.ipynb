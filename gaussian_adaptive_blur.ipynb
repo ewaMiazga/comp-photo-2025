{
  "cells": [
    {
      "cell_type": "code",
      "execution_count": 1,
      "id": "8004c31d",
      "metadata": {
        "colab": {
          "base_uri": "https://localhost:8080/"
        },
        "id": "8004c31d",
        "outputId": "25a22642-14d0-4d48-ee45-6683bb1fe998"
      },
      "outputs": [
        {
          "name": "stdout",
          "output_type": "stream",
          "text": [
            "Requirement already satisfied: rawpy in /Users/nourguermazi/miniconda3/envs/comp_photo/lib/python3.9/site-packages (0.24.0)\n",
            "Requirement already satisfied: numpy>=1.26.0 in /Users/nourguermazi/miniconda3/envs/comp_photo/lib/python3.9/site-packages (from rawpy) (2.0.2)\n"
          ]
        }
      ],
      "source": [
        "import torch\n",
        "import torch.nn.functional as F\n",
        "import matplotlib.pyplot as plt\n",
        "import numpy as np\n",
        "!pip install rawpy\n",
        "import rawpy"
      ]
    },
    {
      "cell_type": "code",
      "execution_count": 2,
      "id": "997d679a",
      "metadata": {
        "id": "997d679a"
      },
      "outputs": [],
      "source": [
        "def load_image(file_path):\n",
        "    raw = rawpy.imread(file_path)\n",
        "    rgb = raw.postprocess()\n",
        "    return rgb\n"
      ]
    },
    {
      "cell_type": "code",
      "execution_count": 3,
      "id": "4829357d",
      "metadata": {
        "colab": {
          "base_uri": "https://localhost:8080/"
        },
        "id": "4829357d",
        "outputId": "f60fafcb-f7eb-4381-8d6e-05f8892c1fa3"
      },
      "outputs": [
        {
          "name": "stdout",
          "output_type": "stream",
          "text": [
            "cpu\n"
          ]
        }
      ],
      "source": [
        "device = torch.device(\"cuda\" if torch.cuda.is_available() else \"cpu\")\n",
        "print(device)\n",
        "\n",
        "import torch\n",
        "import torch.nn.functional as F\n",
        "\n",
        "def gaussian_kernel(sigma, k_size=3):\n",
        "    \"\"\"\n",
        "    Generate Gaussian kernels for each pixel based on sigma values.\n",
        "\n",
        "    Args:\n",
        "        sigma (torch.Tensor): Sigma values with shape (B, C, H, W)\n",
        "        k_size (int): Kernel size (default: 3)\n",
        "\n",
        "    Returns:\n",
        "        torch.Tensor: Gaussian kernels with shape (B, C, H, W, k_size, k_size)\n",
        "    \"\"\"\n",
        "    device = sigma.device\n",
        "    B, C, H, W = sigma.shape\n",
        "    radius = k_size // 2\n",
        "\n",
        "    # Create kernel grid\n",
        "    y, x = torch.meshgrid(\n",
        "        torch.arange(-radius, radius + 1, dtype=torch.float32, device=device),\n",
        "        torch.arange(-radius, radius + 1, dtype=torch.float32, device=device),\n",
        "        indexing='ij'\n",
        "    )\n",
        "\n",
        "    # Reshape for broadcasting\n",
        "    x = x.view(1, 1, 1, 1, k_size, k_size)  # (1, 1, 1, 1, k, k)\n",
        "    y = y.view(1, 1, 1, 1, k_size, k_size)\n",
        "    sigma = sigma.unsqueeze(-1).unsqueeze(-1)  # (B, C, H, W, 1, 1)\n",
        "\n",
        "    # Compute Gaussian weights\n",
        "    coeff = 1.0 / (2 * torch.pi * sigma**2)\n",
        "    exponent = -(x**2 + y**2) / (2 * sigma**2)\n",
        "    weights = coeff * torch.exp(exponent)\n",
        "\n",
        "    # Normalize kernels\n",
        "    weights_sum = weights.sum(dim=(-2, -1), keepdim=True)\n",
        "    weights = weights / weights_sum\n",
        "    print(weights.shape)\n",
        "    return weights\n",
        "\n",
        "def adaptive_gaussian_conv2d(img, k_size=3):\n",
        "    \"\"\"\n",
        "    Perform spatially adaptive Gaussian convolution.\n",
        "\n",
        "    Args:\n",
        "        img (torch.Tensor): Input image with shape (B, C, H, W)\n",
        "        k_size (int): Kernel size (default: 3)\n",
        "\n",
        "    Returns:\n",
        "        torch.Tensor: Convolved output with shape (B, C, H, W)\n",
        "    \"\"\"\n",
        "    img = torch.tensor(img, dtype=torch.float32).permute(2, 0, 1).unsqueeze(0).to(device)\n",
        "    B, C, H, W = img.shape\n",
        "    sigma = F.relu(img) + 1e-6  # Add epsilon to avoid division by zero\n",
        "\n",
        "    # Generate Gaussian kernels\n",
        "    kernels = gaussian_kernel(sigma, k_size).to(img.device)  # (B, C, H, W, k, k)\n",
        "    print(kernels.shape)\n",
        "\n",
        "    # Unfold input image into patches\n",
        "    pad = k_size // 2\n",
        "    unfolded = F.unfold(img, kernel_size=k_size, padding=pad)  # (B, C*k*k, H*W)\n",
        "    unfolded = unfolded.view(B, C, k_size*k_size, H, W)      # (B, C, k*k, H, W)\n",
        "    unfolded = unfolded.permute(0, 1, 3, 4, 2)               # (B, C, H, W, k*k)\n",
        "\n",
        "    # Reshape kernels and multiply with patches\n",
        "    kernels_flat = kernels.view(B, C, H, W, -1)              # (B, C, H, W, k*k)\n",
        "    output = (unfolded * kernels_flat).sum(dim=-1)           # (B, C, H, W)\n",
        "\n",
        "    return output"
      ]
    },
    {
      "cell_type": "code",
      "execution_count": null,
      "id": "MVfv9jekSEwU",
      "metadata": {
        "id": "MVfv9jekSEwU"
      },
      "outputs": [],
      "source": [
        "DIR = \"data/dataset_raw/\"\n",
        "image_diff = load_image(f\"{DIR}filter_long_exp/photo_1.CR2\")\n",
        "image_org = load_image(f\"{DIR}long_exp/photo_1.CR2\")\n",
        "\n",
        "\n",
        "blurred_image = adaptive_gaussian_conv2d(image_org, k_size=9)"
      ]
    },
    {
      "cell_type": "code",
      "execution_count": null,
      "id": "d67637dd",
      "metadata": {
        "colab": {
          "base_uri": "https://localhost:8080/",
          "height": 207
        },
        "id": "d67637dd",
        "outputId": "5cbda18b-104a-4802-bc72-4525f90c1bde"
      },
      "outputs": [
        {
          "ename": "NameError",
          "evalue": "name 'blurred_image' is not defined",
          "output_type": "error",
          "traceback": [
            "\u001b[0;31m---------------------------------------------------------------------------\u001b[0m",
            "\u001b[0;31mNameError\u001b[0m                                 Traceback (most recent call last)",
            "\u001b[0;32m<ipython-input-7-74621aef1c53>\u001b[0m in \u001b[0;36m<cell line: 0>\u001b[0;34m()\u001b[0m\n\u001b[0;32m----> 1\u001b[0;31m \u001b[0mblurred_image\u001b[0m \u001b[0;34m=\u001b[0m \u001b[0mblurred_image\u001b[0m\u001b[0;34m[\u001b[0m\u001b[0;36m0\u001b[0m\u001b[0;34m]\u001b[0m\u001b[0;34m.\u001b[0m\u001b[0mpermute\u001b[0m\u001b[0;34m(\u001b[0m\u001b[0;36m1\u001b[0m\u001b[0;34m,\u001b[0m\u001b[0;36m2\u001b[0m\u001b[0;34m,\u001b[0m\u001b[0;36m0\u001b[0m\u001b[0;34m)\u001b[0m\u001b[0;34m.\u001b[0m\u001b[0mcpu\u001b[0m\u001b[0;34m(\u001b[0m\u001b[0;34m)\u001b[0m\u001b[0;34m.\u001b[0m\u001b[0mnumpy\u001b[0m\u001b[0;34m(\u001b[0m\u001b[0;34m)\u001b[0m\u001b[0;34m\u001b[0m\u001b[0;34m\u001b[0m\u001b[0m\n\u001b[0m\u001b[1;32m      2\u001b[0m \u001b[0mblurred_image\u001b[0m \u001b[0;34m=\u001b[0m \u001b[0mblurred_image\u001b[0m\u001b[0;34m.\u001b[0m\u001b[0mastype\u001b[0m\u001b[0;34m(\u001b[0m\u001b[0mnp\u001b[0m\u001b[0;34m.\u001b[0m\u001b[0muint8\u001b[0m\u001b[0;34m)\u001b[0m\u001b[0;34m\u001b[0m\u001b[0;34m\u001b[0m\u001b[0m\n\u001b[1;32m      3\u001b[0m \u001b[0;34m\u001b[0m\u001b[0m\n\u001b[1;32m      4\u001b[0m \u001b[0mprint\u001b[0m\u001b[0;34m(\u001b[0m\u001b[0mblurred_image\u001b[0m\u001b[0;34m.\u001b[0m\u001b[0mmax\u001b[0m\u001b[0;34m(\u001b[0m\u001b[0;34m)\u001b[0m\u001b[0;34m)\u001b[0m\u001b[0;34m\u001b[0m\u001b[0;34m\u001b[0m\u001b[0m\n\u001b[1;32m      5\u001b[0m \u001b[0mprint\u001b[0m\u001b[0;34m(\u001b[0m\u001b[0mblurred_image\u001b[0m\u001b[0;34m.\u001b[0m\u001b[0mmin\u001b[0m\u001b[0;34m(\u001b[0m\u001b[0;34m)\u001b[0m\u001b[0;34m)\u001b[0m\u001b[0;34m\u001b[0m\u001b[0;34m\u001b[0m\u001b[0m\n",
            "\u001b[0;31mNameError\u001b[0m: name 'blurred_image' is not defined"
          ]
        }
      ],
      "source": [
        "blurred_image = blurred_image[0].permute(1,2,0).cpu().numpy()\n",
        "blurred_image = blurred_image.astype(np.uint8)\n",
        "\n",
        "print(blurred_image.max())\n",
        "print(blurred_image.min())\n",
        "\n",
        "\n",
        "plt.figure(figsize=(12, 6))\n",
        "\n",
        "plt.subplot(1, 3, 1)\n",
        "plt.imshow(image_org)\n",
        "plt.title(\"Original Image\")\n",
        "plt.axis(\"off\")\n",
        "\n",
        "plt.subplot(1, 3, 2)\n",
        "plt.imshow(image_diff)\n",
        "plt.title(\"Original Image\")\n",
        "plt.axis(\"off\")\n",
        "\n",
        "plt.subplot(1, 3, 3)\n",
        "plt.imshow(blurred_image)\n",
        "plt.title(\"Adaptive Blurred Image\")\n",
        "plt.axis(\"off\")\n",
        "\n",
        "plt.tight_layout()\n",
        "plt.show()"
      ]
    },
    {
      "cell_type": "code",
      "execution_count": null,
      "id": "0f8381fe",
      "metadata": {
        "id": "0f8381fe"
      },
      "outputs": [],
      "source": []
    }
  ],
  "metadata": {
    "accelerator": "GPU",
    "colab": {
      "gpuType": "T4",
      "provenance": []
    },
    "kernelspec": {
      "display_name": "comp_photo",
      "language": "python",
      "name": "python3"
    },
    "language_info": {
      "codemirror_mode": {
        "name": "ipython",
        "version": 3
      },
      "file_extension": ".py",
      "mimetype": "text/x-python",
      "name": "python",
      "nbconvert_exporter": "python",
      "pygments_lexer": "ipython3",
      "version": "3.9.18"
    }
  },
  "nbformat": 4,
  "nbformat_minor": 5
}
