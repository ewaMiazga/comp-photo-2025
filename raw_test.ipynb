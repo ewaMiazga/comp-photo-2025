{
 "cells": [
  {
   "cell_type": "markdown",
   "metadata": {},
   "source": [
    "# Sandbox to learn and play with RAW image formates"
   ]
  },
  {
   "cell_type": "code",
   "execution_count": 1,
   "metadata": {},
   "outputs": [
    {
     "name": "stdout",
     "output_type": "stream",
     "text": [
      "Requirement already satisfied: rawpy in ./.venv/lib/python3.10/site-packages (0.24.0)\n",
      "Requirement already satisfied: numpy>=1.26.0 in ./.venv/lib/python3.10/site-packages (from rawpy) (2.2.3)\n"
     ]
    }
   ],
   "source": [
    "!pip install rawpy"
   ]
  },
  {
   "cell_type": "markdown",
   "metadata": {},
   "source": [
    "## Load and visualize raw images"
   ]
  },
  {
   "cell_type": "code",
   "execution_count": null,
   "metadata": {},
   "outputs": [],
   "source": [
    "import os\n",
    "import rawpy\n",
    "import numpy as np\n",
    "from matplotlib import pyplot as plt\n",
    "#\n",
    "raw_dir = os.path.join('.', 'first-dataset', 'first-dataset-RAW')\n",
    "with rawpy.imread(os.path.join(raw_dir, 'IMG_7781.CR2')) as raw:\n",
    "    \n",
    "    \n",
    "    print(f\"Image Size: {raw.sizes.raw_width} x {raw.sizes.raw_height}\")\n",
    "    print(f\"Number of colors is {raw.num_colors}\")\n",
    "    print(f\"Color description: {raw.color_desc}\")\n",
    "    print(f\"Raw type: {raw.raw_type}\")\n",
    "    # Read RAW Sensor Data, _visable crops away borders.\n",
    "    raw_data = raw.raw_image_visible  # Extract sensor data (Bayer pattern)\n",
    "\n",
    "    # Normalize data for visualization (doesn't matter for plt though, should maybe be done per channel...)\n",
    "    norm_data = (raw_data - raw_data.min()) / (raw_data.max() - raw_data.min())\n",
    "\n",
    "    fig, ax = plt.subplots(1,2, width_ratios=(0.7,0.3),figsize=(10,10))\n",
    "    # Display RAW Bayer Data\n",
    "    ax[0].imshow(raw_data, cmap='gray')\n",
    "    ax[0].set_title(\"Bayer Pattern (Grayscale Raw Data)\")\n",
    "    # Convert to RGB using Demosaicing\n",
    "    rgb_image = raw.postprocess()\n",
    "    # Display Processed RGB Image\n",
    "    ax[1].imshow(rgb_image)\n",
    "    ax[1].set_title(\"Processed RGB Image\")\n",
    "    plt.show()"
   ]
  },
  {
   "cell_type": "markdown",
   "metadata": {},
   "source": [
    "### Zoom in on sky to see if we can notice the Bayer pattern\n",
    "\n",
    "We see on the generated image a substantally lower value in the reds, this is corresponding to the cyan-ish blue of the sky and building.\n",
    "I admit I am suprised by the green being brighter than the blues though."
   ]
  },
  {
   "cell_type": "code",
   "execution_count": null,
   "metadata": {},
   "outputs": [],
   "source": [
    "def get_color(raw, y, x):\n",
    "    return raw.color_desc.decode('utf-8')[raw.raw_color(y,x)]\n",
    "\n",
    "with rawpy.imread(os.path.join(raw_dir, 'IMG_7781.CR2')) as raw:\n",
    "\n",
    "\n",
    "    # Define the region to zoom in (e.g., top-left corner)\n",
    "    w = 50\n",
    "    y = 700\n",
    "    x = 3250\n",
    "    zoom_region = raw.raw_image_visible[y:y+w, x:x+w]\n",
    "\n",
    "    # # Normalize the zoomed region for visualization\n",
    "    # norm_zoom_region = (zoom_region - zoom_region.min()) / (zoom_region.max() - zoom_region.min())\n",
    "\n",
    "    # Plot the zoomed region\n",
    "    fig, ax = plt.subplots(1, 1, figsize=(10, 10))\n",
    "    im = ax.imshow(zoom_region, cmap='gray')\n",
    "    fig.colorbar(im, ax = ax)\n",
    "    ax.set_title(\"Zoomed Bayer Pattern (Grayscale Raw Data)\")\n",
    "    label_pixel_colors = False\n",
    "    if label_pixel_colors:\n",
    "        for i in range(w):\n",
    "            for j in range(w):\n",
    "                ax.text(j, i, get_color(raw, y + i, x + j), ha='center', va='center', fontsize=4, color='red')\n",
    "\n",
    "    plt.show()\n",
    "    print()"
   ]
  },
  {
   "cell_type": "markdown",
   "metadata": {},
   "source": [
    "## Extract each channel individually.\n"
   ]
  },
  {
   "cell_type": "code",
   "execution_count": 53,
   "metadata": {},
   "outputs": [],
   "source": [
    "def pack_raw(raw):\n",
    "    # pack Bayer image to 4 channels\n",
    "    im = raw.raw_image_visible.astype(np.float32)\n",
    "\n",
    "    im = (im - im.min()) / (im.max() - im.min()) \n",
    "    im = np.expand_dims(im, axis=2)\n",
    "    img_shape = im.shape\n",
    "    H = img_shape[0]\n",
    "    W = img_shape[1]\n",
    "\n",
    "    out = np.concatenate((im[0:H:2, 0:W:2, :],\n",
    "                          im[0:H:2, 1:W:2, :],\n",
    "                          im[1:H:2, 1:W:2, :],\n",
    "                          im[1:H:2, 0:W:2, :]), axis=2)\n",
    "    return out"
   ]
  },
  {
   "cell_type": "code",
   "execution_count": null,
   "metadata": {},
   "outputs": [],
   "source": [
    "with rawpy.imread(os.path.join(raw_dir, 'IMG_7781.CR2')) as raw1, \\\n",
    "     rawpy.imread(os.path.join(raw_dir, 'IMG_7782.CR2')) as raw2:\n",
    "\n",
    "    packed1 = pack_raw(raw1)\n",
    "    packed1 = np.rot90(packed1, k=1)\n",
    "\n",
    "    packed2 = pack_raw(raw2)\n",
    "    packed2 = np.rot90(packed2, k=1)\n",
    "\n",
    "    fig, ax = plt.subplots(2,4, figsize=(15,10), sharey=True)\n",
    "    for i in range(4):\n",
    "        im = ax[0][i].imshow(packed1[:,:,i], cmap='gray')\n",
    "        ax[0][i].set_title(raw1.color_desc.decode('utf-8')[i])\n",
    "        if i == 0:\n",
    "            fig.colorbar(im, ax = ax.ravel())\n",
    "    for i in range(4):\n",
    "        im = ax[1][i].imshow(packed2[:,:,i], cmap='gray')\n",
    "            \n",
    "    plt.show()\n",
    "    print()"
   ]
  },
  {
   "cell_type": "code",
   "execution_count": null,
   "metadata": {},
   "outputs": [],
   "source": []
  }
 ],
 "metadata": {
  "kernelspec": {
   "display_name": ".venv",
   "language": "python",
   "name": "python3"
  },
  "language_info": {
   "codemirror_mode": {
    "name": "ipython",
    "version": 3
   },
   "file_extension": ".py",
   "mimetype": "text/x-python",
   "name": "python",
   "nbconvert_exporter": "python",
   "pygments_lexer": "ipython3",
   "version": "3.10.12"
  }
 },
 "nbformat": 4,
 "nbformat_minor": 2
}
