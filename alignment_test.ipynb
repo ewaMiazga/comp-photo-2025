{
 "cells": [
  {
   "metadata": {},
   "cell_type": "markdown",
   "source": [
    "# Alignment and variance difference\n",
    "**This notebook shows how to align two images and analyze the local variance difference between them**"
   ]
  },
  {
   "cell_type": "code",
   "metadata": {
    "ExecuteTime": {
     "end_time": "2025-03-29T20:33:30.401255Z",
     "start_time": "2025-03-29T20:33:30.383296Z"
    }
   },
   "source": [
    "%reload_ext autoreload\n",
    "%autoreload 2\n",
    "\n",
    "import numpy as np\n",
    "import rawpy\n",
    "import matplotlib.pyplot as plt\n",
    "from raw_utils import *\n",
    "from alignment import *"
   ],
   "outputs": [],
   "execution_count": 110
  },
  {
   "cell_type": "markdown",
   "metadata": {},
   "source": [
    "## Load images and pack raw images"
   ]
  },
  {
   "cell_type": "code",
   "metadata": {},
   "source": [
    "clear = rawpy.imread('first-filter-dataset/IMG_7957.CR2').postprocess()\n",
    "diffused = rawpy.imread('first-filter-dataset/IMG_7955_diff.CR2').postprocess()\n",
    "\n",
    "clear_results, diffused_results = align_and_crop_raw_images(\n",
    "    'first-filter-dataset/IMG_7957.CR2',\n",
    "    'first-filter-dataset/IMG_7955_diff.CR2'\n",
    ")\n",
    "\n",
    "# _raw is the rawpy object with the aligned and cropped data\n",
    "# _mosaic is an np array with the aligned and cropped data, still as mosaic\n",
    "# _channels is the packed version of the _mosaic so it has the 4 color channels seperated. \n",
    "clear_raw, clear_mosaic, clear_channels = clear_results.values()\n",
    "diffused_raw, diffused_mosaic, diffused_channels = diffused_results.values()\n",
    "\n",
    "img_clear_aligned_cropped = clear_raw.postprocess()\n",
    "img_diffused_aligned_cropped = diffused_raw.postprocess()\n",
    "\n",
    "# Plot images\n",
    "fig, axs = plt.subplots(2,2, figsize=(15,10), sharey=True, sharex=True)\n",
    "axs[0,0].imshow(clear)\n",
    "axs[0,1].imshow(diffused)\n",
    "axs[1,0].imshow(img_clear_aligned_cropped)\n",
    "axs[1,1].imshow(img_diffused_aligned_cropped)\n",
    "\n",
    "# Column titles\n",
    "axs[0, 0].set_title(\"clear\")\n",
    "axs[0, 1].set_title(\"Diffused\")\n",
    "\n",
    "# Row labels (use fig.text to center vertically)\n",
    "axs[0,0].set_ylabel(\"Original\", size='large')\n",
    "axs[1,0].set_ylabel(\"Aligned & Cropped\", rotation=90, size='large')\n",
    "\n",
    "fig.suptitle(\"Postprocessed images before and after alignment\", size=20)\n",
    "plt.show()"
   ],
   "outputs": [],
   "execution_count": null
  },
  {
   "metadata": {},
   "cell_type": "markdown",
   "source": "## Calculate local variances and the variance difference between the images"
  },
  {
   "cell_type": "code",
   "metadata": {
    "ExecuteTime": {
     "end_time": "2025-03-29T20:15:16.134352Z",
     "start_time": "2025-03-29T20:15:16.106594Z"
    }
   },
   "source": [
    "def compute_local_variance_single_channel(image, kernel_size=5):\n",
    "    image = image.astype(np.float32)\n",
    "    # cv2 blur calculates local mean using a box filter\n",
    "    mean = cv2.blur(image, (kernel_size, kernel_size))\n",
    "    mean_sq = cv2.blur(image**2, (kernel_size, kernel_size))\n",
    "    variance = mean_sq - mean**2\n",
    "    return mean_sq - mean**2\n",
    "\n",
    "def compute_local_variance(image, kernel_size=5):\n",
    "    R_variance = compute_local_variance_single_channel(image[:, :, 0], kernel_size)\n",
    "    G1_variance = compute_local_variance_single_channel(image[:, :, 1], kernel_size)\n",
    "    B_variance = compute_local_variance_single_channel(image[:, :, 2], kernel_size)\n",
    "    G2_variance = compute_local_variance_single_channel(image[:, :, 3], kernel_size)\n",
    "\n",
    "    return np.stack((R_variance, G1_variance, B_variance, G2_variance), axis=2)\n"
   ],
   "outputs": [],
   "execution_count": 84
  },
  {
   "cell_type": "code",
   "metadata": {},
   "source": [
    "kernel_size = 9\n",
    "clear_variance = compute_local_variance(clear_channels, kernel_size=kernel_size)\n",
    "diffused_variance = compute_local_variance(diffused_channels, kernel_size=kernel_size)\n",
    "\n",
    "\n",
    "variance_difference = np.abs(diffused_variance - clear_variance)\n",
    "channels = ['R', 'G1', 'B', 'G2']\n",
    "fig, axs = plt.subplots(len(channels),3, figsize=(15,len(channels)*3.5), sharey=True)\n",
    "for channel_index, channel_name in enumerate(channels):\n",
    "    axs[channel_index, 0].set_ylabel(channel_name, rotation=np.pi, size='large')\n",
    "    if channel_index==0:\n",
    "        axs[channel_index, 0].set_title('Clear image variance')\n",
    "        axs[channel_index, 1].set_title('Diffused image variance')\n",
    "        axs[channel_index, 2].set_title('Variance difference')\n",
    "    axs[channel_index, 0].imshow(clear_variance[:,:,channel_index], cmap=\"coolwarm\")\n",
    "    axs[channel_index, 1].imshow(diffused_variance[:,:,channel_index], cmap=\"coolwarm\")\n",
    "    axs[channel_index, 2].imshow(variance_difference[:, :,channel_index], cmap=\"coolwarm\")\n",
    "\n",
    "\n",
    "fig.tight_layout(rect=[0, 0, 1, 0.95])\n",
    "fig.suptitle('Variances in Clear and Diffused Photos', fontsize=16)\n",
    "\n",
    "plt.show()\n"
   ],
   "outputs": [],
   "execution_count": null
  },
  {
   "metadata": {},
   "cell_type": "markdown",
   "source": "## Visualize variance per intensity"
  },
  {
   "cell_type": "code",
   "metadata": {
    "ExecuteTime": {
     "end_time": "2025-03-29T20:18:19.824979Z",
     "start_time": "2025-03-29T20:18:19.810947Z"
    }
   },
   "source": [
    "def create_array_per_pair(image, variance_difference):\n",
    "    image = image.flatten()\n",
    "    variance_difference = variance_difference.flatten()\n",
    "    if image.shape != variance_difference.shape:\n",
    "        raise ValueError(\"Inputs must have the same shape after flattening.\")\n",
    "    paired_array = np.stack((image, variance_difference), axis=1)\n",
    "    return paired_array\n",
    "\n",
    "def average_y_per_x(paired_array, threshold=0):\n",
    "    x = paired_array[:, 0]\n",
    "    y = paired_array[:, 1]\n",
    "    unique_x, inverse_indices = np.unique(x, return_inverse=True)\n",
    "    sum_y = np.bincount(inverse_indices, weights=y)\n",
    "    count_y = np.bincount(inverse_indices)\n",
    "    avg_y = sum_y / count_y\n",
    "    # Apply threshold\n",
    "    mask = count_y >= threshold\n",
    "    filtered_x = unique_x[mask]\n",
    "    filtered_avg_y = avg_y[mask]\n",
    "\n",
    "    return np.stack((filtered_x, filtered_avg_y), axis=1)\n",
    "\n",
    "def average_y_per_x_binned(paired_array, num_bins=100, threshold=0):\n",
    "    x = paired_array[:, 0]\n",
    "    y = paired_array[:, 1]\n",
    "\n",
    "    # Create bins\n",
    "    x_min, x_max = x.min(), x.max()\n",
    "    bins = np.linspace(x_min, x_max, num_bins + 1)\n",
    "\n",
    "    # Assign each x to a bin\n",
    "    bin_indices = np.digitize(x, bins) - 1  # shift to 0-based index\n",
    "\n",
    "    # Remove out-of-range values\n",
    "    valid_mask = (bin_indices >= 0) & (bin_indices < num_bins)\n",
    "    bin_indices = bin_indices[valid_mask]\n",
    "    y = y[valid_mask]\n",
    "\n",
    "    # Compute average y per bin\n",
    "    sum_y = np.bincount(bin_indices, weights=y, minlength=num_bins)\n",
    "    count_y = np.bincount(bin_indices, minlength=num_bins)\n",
    "    avg_y = np.divide(sum_y, count_y, out=np.zeros_like(sum_y), where=count_y > 0)\n",
    "\n",
    "    # Apply threshold\n",
    "    mask = count_y >= threshold\n",
    "    bin_centers = (bins[:-1] + bins[1:]) / 2\n",
    "    filtered_x = bin_centers[mask]\n",
    "    filtered_avg_y = avg_y[mask]\n",
    "\n",
    "    return np.stack((filtered_x, filtered_avg_y), axis=1)"
   ],
   "outputs": [],
   "execution_count": 88
  },
  {
   "cell_type": "code",
   "metadata": {
    "ExecuteTime": {
     "end_time": "2025-03-29T20:27:24.842417Z",
     "start_time": "2025-03-29T20:27:24.832495Z"
    }
   },
   "source": [
    "def plot_scatter(paired_array, ax, xlabel=\"\", ylabel=\"\", title=\"\"):\n",
    "    x = paired_array[:, 0]\n",
    "    y = paired_array[:, 1]\n",
    "    ax.scatter(x, y, s=1, alpha=0.8)\n",
    "    ax.set_xlabel(xlabel)\n",
    "    ax.set_ylabel(ylabel)\n",
    "    ax.set_title(title)\n",
    "    ax.grid(True)\n",
    "\n",
    "def plot_avg_variance_difference_by_pixel_1_channel(original, variance_difference, channel, threshold=0, ax=None):\n",
    "    variance_difference_by_pixel_compared_to_original = create_array_per_pair(original[:, :, 0], variance_difference[:,:,channel])\n",
    "    # avg_variance_by_pixel_compared_to_original = average_y_per_x(variance_difference_by_pixel_compared_to_original, threshold=threshold)\n",
    "    avg_variance_by_pixel_compared_to_original = average_y_per_x_binned(variance_difference_by_pixel_compared_to_original, num_bins=500, threshold=threshold)\n",
    "    if ax is None:\n",
    "        fig, ax = plt.subplots()\n",
    "    plot_scatter(avg_variance_by_pixel_compared_to_original, ax, \"Pixel intensity\", \"Avg variance difference\", \"Avg variance difference by pixel intensity\")\n",
    "    "
   ],
   "outputs": [],
   "execution_count": 107
  },
  {
   "cell_type": "code",
   "metadata": {},
   "source": [
    "fig, ax = plt.subplots(1,4,figsize=(20,5), sharey=True)\n",
    "channels = ['R', 'G1', 'B', 'G2']\n",
    "for channel_index, channel_name in enumerate(channels):\n",
    "    plot_avg_variance_difference_by_pixel_1_channel(original=clear_channels, variance_difference=variance_difference, channel=channel_index, threshold=0, ax=ax[channel_index])\n",
    "    ax[channel_index].set_title(channel_name)\n",
    "# plt.figure(figsize=(20,5))\n",
    "\n",
    "plt.show()"
   ],
   "outputs": [],
   "execution_count": null
  },
  {
   "metadata": {},
   "cell_type": "markdown",
   "source": "## The variance differences of two completely unrelated images"
  },
  {
   "cell_type": "code",
   "metadata": {},
   "source": [
    "def readjpg(path):\n",
    "    img_bgr =cv2.imread(path)\n",
    "    img_rgb = cv2.cvtColor(img_bgr, cv2.COLOR_BGR2RGB)\n",
    "    return img_rgb\n",
    "img1 = readjpg(\"first-filter-dataset/IMG_7957.JPG\")\n",
    "img2 = readjpg(\"first-dataset/first-dataset-JPG/IMG_7782_DxO.jpg\")\n",
    "\n",
    "\n",
    "height = min(img1.shape[0], img2.shape[0])\n",
    "width = min(img1.shape[1], img2.shape[1])\n",
    "\n",
    "print(img2.shape)\n",
    "print(img1.shape)\n",
    "print(height, width)\n",
    "img1 = img1[:height, :width, :]\n",
    "img2 = img2[:height, :width, :]\n",
    "\n",
    "\n",
    "def compute_local_variance_rgb(image, kernel_size=5):\n",
    "    R_variance = compute_local_variance_single_channel(image[:, :, 0], kernel_size)\n",
    "    G_variance = compute_local_variance_single_channel(image[:, :, 1], kernel_size)\n",
    "    B_variance = compute_local_variance_single_channel(image[:, :, 2], kernel_size)\n",
    "\n",
    "    return np.stack((R_variance, G_variance, B_variance), axis=2)\n",
    "\n",
    "variances1 = compute_local_variance_rgb(img1)\n",
    "variances2 = compute_local_variance_rgb(img2)\n",
    "diff_variances = np.abs(variances1 - variances2)\n",
    "plot_avg_variance_difference_by_pixel_1_channel(original=img1, variance_difference=diff_variances, channel=0)"
   ],
   "outputs": [],
   "execution_count": null
  },
  {
   "cell_type": "code",
   "execution_count": null,
   "metadata": {},
   "outputs": [],
   "source": []
  }
 ],
 "metadata": {
  "kernelspec": {
   "display_name": ".venv",
   "language": "python",
   "name": "python3"
  },
  "language_info": {
   "codemirror_mode": {
    "name": "ipython",
    "version": 3
   },
   "file_extension": ".py",
   "mimetype": "text/x-python",
   "name": "python",
   "nbconvert_exporter": "python",
   "pygments_lexer": "ipython3",
   "version": "3.10.12"
  }
 },
 "nbformat": 4,
 "nbformat_minor": 2
}
