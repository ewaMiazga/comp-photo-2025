{
 "cells": [
  {
   "cell_type": "code",
   "execution_count": null,
   "id": "87b14511",
   "metadata": {},
   "outputs": [],
   "source": [
    "#!gdown 1KZQErVGYSlcv8ukwaXUkelBYdAsKIggn\n",
    "#!unzip dataset_raw_080525.zip\n",
    "#!rm dataset_raw_080525.zip"
   ]
  },
  {
   "cell_type": "code",
   "execution_count": null,
   "id": "c13ee348",
   "metadata": {},
   "outputs": [
    {
     "name": "stderr",
     "output_type": "stream",
     "text": [
      "/tmp/ipykernel_1486753/1133984056.py:5: FutureWarning: You are using `torch.load` with `weights_only=False` (the current default value), which uses the default pickle module implicitly. It is possible to construct malicious pickle data which will execute arbitrary code during unpickling (See https://github.com/pytorch/pytorch/blob/main/SECURITY.md#untrusted-models for more details). In a future release, the default value for `weights_only` will be flipped to `True`. This limits the functions that could be executed during unpickling. Arbitrary objects will no longer be allowed to be loaded via this mode unless they are explicitly allowlisted by the user via `torch.serialization.add_safe_globals`. We recommend you start setting `weights_only=True` for any use case where you don't have full control of the loaded file. Please open an issue on GitHub for any issues related to this experimental feature.\n",
      "  orig_imgs = torch.load('dataset_raw/long_exp.pt')\n",
      "/tmp/ipykernel_1486753/1133984056.py:6: FutureWarning: You are using `torch.load` with `weights_only=False` (the current default value), which uses the default pickle module implicitly. It is possible to construct malicious pickle data which will execute arbitrary code during unpickling (See https://github.com/pytorch/pytorch/blob/main/SECURITY.md#untrusted-models for more details). In a future release, the default value for `weights_only` will be flipped to `True`. This limits the functions that could be executed during unpickling. Arbitrary objects will no longer be allowed to be loaded via this mode unless they are explicitly allowlisted by the user via `torch.serialization.add_safe_globals`. We recommend you start setting `weights_only=True` for any use case where you don't have full control of the loaded file. Please open an issue on GitHub for any issues related to this experimental feature.\n",
      "  filter_imgs = torch.load('dataset_raw/filter_long_exp.pt')\n"
     ]
    }
   ],
   "source": [
    "import torch\n",
    "import matplotlib.pyplot as plt\n",
    "from gaussian_net import ImagePairDataset\n",
    "\n",
    "device = \"cuda\"\n",
    "orig_imgs = torch.load('dataset_raw/long_exp.pt')\n",
    "filter_imgs = torch.load('dataset_raw/filter_long_exp.pt')\n",
    "\n",
    "\n",
    "dataset = ImagePairDataset(orig_imgs.permute(0, 3, 1, 2), filter_imgs.permute(0, 3, 1, 2))\n",
    "dataloader = torch.utils.data.DataLoader(dataset, batch_size=16, shuffle=True)"
   ]
  },
  {
   "cell_type": "code",
   "execution_count": 2,
   "id": "f8de48da",
   "metadata": {},
   "outputs": [],
   "source": [
    "from gaussian_net import GaussianNet, set_seed\n",
    "\n",
    "set_seed(42)\n",
    "net = GaussianNet(3).to(device)"
   ]
  },
  {
   "cell_type": "code",
   "execution_count": null,
   "id": "11b1cdfb",
   "metadata": {},
   "outputs": [
    {
     "name": "stdout",
     "output_type": "stream",
     "text": [
      "Epoch 0, Loss: 0.02413240820169449\n",
      "Epoch 1, Loss: 0.03141651675105095\n",
      "Epoch 2, Loss: 0.045433852821588516\n",
      "Epoch 3, Loss: 0.049524448812007904\n",
      "Epoch 4, Loss: 0.08734865486621857\n",
      "Epoch 5, Loss: 0.0289719607681036\n",
      "Epoch 6, Loss: 0.062271859496831894\n"
     ]
    }
   ],
   "source": [
    "from torch import nn, optim\n",
    "\n",
    "criterion = nn.MSELoss()\n",
    "optimizer = optim.Adam(net.parameters(), lr=0.0001)\n",
    "scheduler = optim.lr_scheduler.CosineAnnealingLR(optimizer, T_max=2000)\n",
    "\n",
    "losses = []\n",
    "num_epochs = 10\n",
    "\n",
    "for epoch in range(num_epochs):\n",
    "    for original_img, filter_img in dataloader:\n",
    "        original_img = original_img.to(device)\n",
    "        filter_img = filter_img.to(device)\n",
    "\n",
    "        optimizer.zero_grad()\n",
    "        blurred_img = net(original_img)\n",
    "        loss = criterion(blurred_img, filter_img)\n",
    "        loss.backward()\n",
    "        optimizer.step()\n",
    "        scheduler.step()\n",
    "        losses.append(loss.item())\n",
    "\n",
    "    print(f\"Epoch {epoch}, Loss: {loss.item()}\")\n",
    "\n",
    "print(\"Finished Training\")"
   ]
  },
  {
   "cell_type": "code",
   "execution_count": null,
   "id": "744080ed",
   "metadata": {},
   "outputs": [],
   "source": [
    "plt.plot(losses)"
   ]
  },
  {
   "cell_type": "code",
   "execution_count": null,
   "id": "cd089356",
   "metadata": {},
   "outputs": [],
   "source": [
    "plt.figure(figsize=(12, 6))\n",
    "\n",
    "plt.subplot(1, 3, 1)\n",
    "plt.imshow(original_img.squeeze().permute(1, 2, 0).cpu().numpy())\n",
    "plt.title(\"Original Image\")\n",
    "plt.axis(\"off\")\n",
    "\n",
    "\n",
    "plt.subplot(1, 3, 2)\n",
    "plt.imshow(filter_img.squeeze().permute(1, 2, 0).cpu().numpy())\n",
    "plt.title(\"Filtered Image\")\n",
    "plt.axis(\"off\")\n",
    "\n",
    "plt.subplot(1, 3, 3)\n",
    "plt.imshow(blurred_img.squeeze().detach().permute(1, 2, 0).cpu().numpy())\n",
    "plt.title(\"Blurred Image\")\n",
    "plt.axis(\"off\")\n",
    "\n",
    "\n",
    "plt.tight_layout()\n",
    "plt.show()"
   ]
  }
 ],
 "metadata": {
  "kernelspec": {
   "display_name": "Python 3",
   "language": "python",
   "name": "python3"
  },
  "language_info": {
   "codemirror_mode": {
    "name": "ipython",
    "version": 3
   },
   "file_extension": ".py",
   "mimetype": "text/x-python",
   "name": "python",
   "nbconvert_exporter": "python",
   "pygments_lexer": "ipython3",
   "version": "3.8.19"
  }
 },
 "nbformat": 4,
 "nbformat_minor": 5
}
