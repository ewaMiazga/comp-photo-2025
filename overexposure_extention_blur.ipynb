{
 "cells": [
  {
   "metadata": {
    "ExecuteTime": {
     "end_time": "2025-05-24T15:42:58.457586Z",
     "start_time": "2025-05-24T15:42:56.129464Z"
    }
   },
   "cell_type": "code",
   "source": [
    "import torch\n",
    "import torch.nn.functional as F\n",
    "import matplotlib.pyplot as plt\n",
    "import numpy as np\n",
    "import cv2\n",
    "import seaborn as sns\n",
    "from raw_utils import demosaic_bilinear\n",
    "from raw_utils import unpack_raw\n",
    "#!pip install rawpy\n",
    "import rawpy\n",
    "from raw_utils import pack_raw\n",
    "from dataset_navigation import get_image_paths\n",
    "from ipywidgets import interact, FloatSlider\n"
   ],
   "id": "74852833f7a57756",
   "outputs": [],
   "execution_count": 1
  },
  {
   "metadata": {
    "ExecuteTime": {
     "end_time": "2025-05-24T16:05:30.378737Z",
     "start_time": "2025-05-24T16:05:29.511932Z"
    }
   },
   "cell_type": "code",
   "source": [
    "\n",
    "def load_image(file_path):\n",
    "    raw = rawpy.imread(file_path).raw_image_visible\n",
    "    return pack_raw(raw)\n",
    "\n",
    "\n",
    "def kernel_blur(img, kernel):\n",
    "    return cv2.filter2D(img, -1, kernel)\n",
    "\n",
    "\n",
    "def sum_of_gaussians_kernel(kernel_size=3, sigma1=0.01, sigma2=10, ratio=20):\n",
    "    radius = kernel_size // 2\n",
    "    x = np.arange(-radius, radius + 1)\n",
    "    xx, yy = np.meshgrid(x, x, indexing='ij')\n",
    "\n",
    "    g1 = np.exp(-(xx**2 + yy**2) / (2 * sigma1**2))\n",
    "    g2 = np.exp(-(xx**2 + yy**2) / (2 * sigma2**2))\n",
    "\n",
    "    g_sum = g1 + ratio * g2\n",
    "    g_sum /= np.sum(g_sum)  # normalize to sum to 1\n",
    "\n",
    "    # Create 1D kernel for visualization\n",
    "    d1_kernel = g_sum[radius, :]  # take the middle row as 1D kernel\n",
    "    return g_sum.astype(np.float32), d1_kernel.astype(np.float32)\n",
    "\n",
    "def get_gray_world_constants(image):\n",
    "    \"\"\"\n",
    "    Calculate gray world constants for white balancing.\n",
    "    \n",
    "    Args:\n",
    "        image (numpy.ndarray): Input image in RGB format.\n",
    "        \n",
    "    Returns:\n",
    "        tuple: Mean values for each channel (R, G, B).\n",
    "    \"\"\"\n",
    "    demosaiced = demosaic_bilinear(unpack_raw(image))\n",
    "    mu = demosaiced.mean(axis=(0, 1))  # [μ_R, μ_G, μ_B]\n",
    "    mu_gray = mu.mean()           # gray reference\n",
    "    scales = mu_gray / mu          # [s_R, s_G, s_B]\n",
    "    return scales\n",
    "\n",
    "class PostProcessor:\n",
    "    def __init__(self, gray_world_constants, gamma=2.2):\n",
    "        self.gray_world_constants = gray_world_constants\n",
    "        self.gamma = gamma\n",
    "\n",
    "    def postprocess(self, image, gray_world_constants=None):\n",
    "        rgb = demosaic_bilinear(unpack_raw(image))\n",
    "\n",
    "        scales = self.gray_world_constants if gray_world_constants is None else gray_world_constants\n",
    "        # apply scales\n",
    "        rgb = rgb * scales[None,None,:]\n",
    "\n",
    "        rgb = np.clip(rgb, 0, 1)\n",
    "        # Apply gamma correction\n",
    "        rgb = np.power(rgb, 1 / self.gamma)\n",
    "        # Normalize to [0, 1]\n",
    "        # rgb = (rgb - rgb.min()) / (rgb.max() - rgb.min())\n",
    "        return rgb\n",
    "\n",
    "def extend(image, limit=1, factor=10):\n",
    "    \"\"\"\n",
    "    Extend values above a certain limit by a factor.\n",
    "    \"\"\"\n",
    "    extended_image = image.copy()\n",
    "    # Build a mask for pixels where any channel exceeds the limit\n",
    "    pixel_mask = (extended_image >= limit).any(axis=-1)  # shape (H, W)\n",
    "    # Expand mask to all channels and apply\n",
    "    extended_image[pixel_mask] *= factor\n",
    "    return extended_image\n",
    "\n",
    "\n",
    "\n",
    "paths = get_image_paths()\n",
    "long_exp_paths = paths[\"long_exp\"]\n",
    "filtered_exp_paths = paths[\"filter_long_exp\"]\n",
    "idx = 22 # Handbag\n",
    "idx = 0 # House\n",
    "idx = 13\n",
    "image_diff = load_image(filtered_exp_paths[idx])\n",
    "image_org = load_image(long_exp_paths[idx])\n",
    "# Downsample the images\n",
    "factor = 4\n",
    "\n",
    "image_diff = cv2.resize(image_diff, (image_diff.shape[1] // factor, image_diff.shape[0] // factor), interpolation=cv2.INTER_LINEAR)\n",
    "image_org = cv2.resize(image_org, (image_org.shape[1] // factor, image_org.shape[0] // factor), interpolation=cv2.INTER_LINEAR)\n",
    "image_diff = image_diff / image_diff.max()\n",
    "image_org = image_org / image_org.max()\n"
   ],
   "id": "a3fb2940dd857972",
   "outputs": [],
   "execution_count": 17
  },
  {
   "metadata": {
    "ExecuteTime": {
     "end_time": "2025-05-24T16:05:30.639141Z",
     "start_time": "2025-05-24T16:05:30.380228Z"
    }
   },
   "cell_type": "code",
   "source": [
    "pp = PostProcessor(get_gray_world_constants(image_diff), gamma=2.2)\n",
    "image_org_rgb = pp.postprocess(image_org)\n",
    "image_diff_rgb = pp.postprocess(image_diff, get_gray_world_constants(image_diff))\n"
   ],
   "id": "bc0e55e0d1bd6616",
   "outputs": [],
   "execution_count": 18
  },
  {
   "metadata": {
    "ExecuteTime": {
     "end_time": "2025-05-24T16:05:31.424733Z",
     "start_time": "2025-05-24T16:05:30.640162Z"
    }
   },
   "cell_type": "code",
   "source": [
    "def blur_image(image, kernel_size=1000, sigma1=0.115, sigma2=10, ratio=0.00007, extend_factor=20):\n",
    "    extended = extend(image, limit=1, factor=extend_factor)\n",
    "    kernel, _ = sum_of_gaussians_kernel(kernel_size=kernel_size, sigma1=sigma1, sigma2=sigma2, ratio=ratio)\n",
    "    blurred_image = kernel_blur(extended, kernel)\n",
    "    clipped_image = np.clip(blurred_image, 0, 1)\n",
    "    return clipped_image\n",
    "\n",
    "\n",
    "\n",
    "def update(factor=1.0):\n",
    "    # Replace with your image logic\n",
    "    fig, ax = plt.subplots(1,3, figsize=(20, 8))\n",
    "    blurred_image = blur_image(image_org, kernel_size=1000, sigma1=0.115, sigma2=10, ratio=0.00007, extend_factor=factor)\n",
    "    pp = PostProcessor(get_gray_world_constants(blurred_image), gamma=2.2)\n",
    "    blurred_image_rgb = pp.postprocess(blurred_image)\n",
    "\n",
    "    ax[0].imshow(image_org_rgb)\n",
    "    ax[0].set_title(\"Original Image\")\n",
    "    ax[0].axis('off')\n",
    "    ax[1].imshow(blurred_image_rgb)\n",
    "    ax[1].set_title(\"Blurred Image\")\n",
    "    ax[1].axis('off')\n",
    "    print(\"Image Diff Max:\", image_diff_rgb.max())\n",
    "    ax[2].imshow(image_diff_rgb)\n",
    "    ax[2].set_title(\"Filtered Image\")\n",
    "    ax[2].axis('off')\n",
    "\n",
    "    plt.show()\n",
    "    \n",
    "\n",
    "interact(update, factor=FloatSlider(min=1.0, max=200.0, step=1, value=20.0));"
   ],
   "id": "a5c9b9e13ad729ca",
   "outputs": [
    {
     "data": {
      "text/plain": [
       "interactive(children=(FloatSlider(value=20.0, description='factor', max=200.0, min=1.0, step=1.0), Output()), …"
      ],
      "application/vnd.jupyter.widget-view+json": {
       "version_major": 2,
       "version_minor": 0,
       "model_id": "785586aae7eb45b48970f9ce5cde8c51"
      }
     },
     "metadata": {},
     "output_type": "display_data"
    }
   ],
   "execution_count": 19
  },
  {
   "metadata": {},
   "cell_type": "code",
   "source": "",
   "id": "3d4dbef503a6a22f",
   "outputs": [],
   "execution_count": 19
  },
  {
   "metadata": {
    "ExecuteTime": {
     "end_time": "2025-05-24T16:07:33.471892Z",
     "start_time": "2025-05-24T16:06:15.586968Z"
    }
   },
   "cell_type": "code",
   "source": [
    "import cv2\n",
    "import numpy as np\n",
    "def nothing(x): pass\n",
    "\n",
    "cv2.namedWindow('Image', cv2.WINDOW_NORMAL)\n",
    "cv2.resizeWindow('Image', 1500, 400)\n",
    "cv2.createTrackbar('Factor', 'Image', 10, 100, nothing)\n",
    "# cv2.createTrackbar('Threshold', 'Image', 5, 100, nothing)\n",
    "\n",
    "last_factor = -1\n",
    "# last_threshold = 5\n",
    "\n",
    "while True:\n",
    "    factor = cv2.getTrackbarPos('Factor', 'Image')\n",
    "    # threshold = cv2.getTrackbarPos('Threshold', 'Image') / 100.0\n",
    "\n",
    "    if factor != last_factor:\n",
    "        # Update only if something changed\n",
    "        blurred_image = blur_image(\n",
    "            image_org, kernel_size=1000, sigma1=0.115, sigma2=10,\n",
    "            ratio=0.00007, extend_factor=factor\n",
    "        )\n",
    "        pp = PostProcessor(get_gray_world_constants(blurred_image), gamma=2.2)\n",
    "        blurred_image_rgb = pp.postprocess(blurred_image)\n",
    "\n",
    "        montage = np.hstack((image_org_rgb, blurred_image_rgb, image_diff_rgb))\n",
    "\n",
    "        cv2.imshow('Image', montage)\n",
    "\n",
    "        last_factor = factor\n",
    "        # last_threshold = threshold\n",
    "    # Press 'Esc' to exit !!!\n",
    "    if cv2.waitKey(1) & 0xFF == 27:\n",
    "        break\n",
    "\n",
    "cv2.destroyAllWindows()"
   ],
   "id": "b0fa727024ac47be",
   "outputs": [
    {
     "ename": "KeyboardInterrupt",
     "evalue": "",
     "output_type": "error",
     "traceback": [
      "\u001B[0;31m---------------------------------------------------------------------------\u001B[0m",
      "\u001B[0;31mKeyboardInterrupt\u001B[0m                         Traceback (most recent call last)",
      "Cell \u001B[0;32mIn[23], line 33\u001B[0m\n\u001B[1;32m     30\u001B[0m         last_factor \u001B[38;5;241m=\u001B[39m factor\n\u001B[1;32m     31\u001B[0m         \u001B[38;5;66;03m# last_threshold = threshold\u001B[39;00m\n\u001B[1;32m     32\u001B[0m     \u001B[38;5;66;03m# Press 'Esc' to exit !!!\u001B[39;00m\n\u001B[0;32m---> 33\u001B[0m     \u001B[38;5;28;01mif\u001B[39;00m \u001B[43mcv2\u001B[49m\u001B[38;5;241;43m.\u001B[39;49m\u001B[43mwaitKey\u001B[49m\u001B[43m(\u001B[49m\u001B[38;5;241;43m1\u001B[39;49m\u001B[43m)\u001B[49m \u001B[38;5;241m&\u001B[39m \u001B[38;5;241m0xFF\u001B[39m \u001B[38;5;241m==\u001B[39m \u001B[38;5;241m27\u001B[39m:\n\u001B[1;32m     34\u001B[0m         \u001B[38;5;28;01mbreak\u001B[39;00m\n\u001B[1;32m     36\u001B[0m cv2\u001B[38;5;241m.\u001B[39mdestroyAllWindows()\n",
      "\u001B[0;31mKeyboardInterrupt\u001B[0m: "
     ]
    }
   ],
   "execution_count": 23
  },
  {
   "metadata": {
    "ExecuteTime": {
     "end_time": "2025-05-24T15:53:41.453519Z",
     "start_time": "2025-05-24T15:53:41.449560Z"
    }
   },
   "cell_type": "code",
   "source": "",
   "id": "b7794cf54d65ba3d",
   "outputs": [],
   "execution_count": 5
  }
 ],
 "metadata": {
  "kernelspec": {
   "display_name": "Python 3",
   "language": "python",
   "name": "python3"
  },
  "language_info": {
   "codemirror_mode": {
    "name": "ipython",
    "version": 2
   },
   "file_extension": ".py",
   "mimetype": "text/x-python",
   "name": "python",
   "nbconvert_exporter": "python",
   "pygments_lexer": "ipython2",
   "version": "2.7.6"
  }
 },
 "nbformat": 4,
 "nbformat_minor": 5
}
